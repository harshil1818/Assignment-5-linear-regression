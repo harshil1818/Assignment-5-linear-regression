{
  "metadata": {
    "kernelspec": {
      "name": "python3",
      "display_name": "Python 3",
      "language": "python"
    },
    "language_info": {
      "name": "python",
      "version": "3.10.12",
      "mimetype": "text/x-python",
      "codemirror_mode": {
        "name": "ipython",
        "version": 3
      },
      "pygments_lexer": "ipython3",
      "nbconvert_exporter": "python",
      "file_extension": ".py"
    },
    "papermill": {
      "default_parameters": {},
      "duration": 361.424173,
      "end_time": "2023-01-14T10:17:24.66276",
      "environment_variables": {},
      "exception": null,
      "input_path": "__notebook__.ipynb",
      "output_path": "__notebook__.ipynb",
      "parameters": {},
      "start_time": "2023-01-14T10:11:23.238587",
      "version": "2.3.4"
    },
    "kaggle": {
      "accelerator": "none",
      "dataSources": [
        {
          "sourceId": 4200454,
          "sourceType": "datasetVersion",
          "datasetId": 2476732
        }
      ],
      "dockerImageVersionId": 30626,
      "isInternetEnabled": false,
      "language": "python",
      "sourceType": "notebook",
      "isGpuEnabled": false
    },
    "colab": {
      "name": "Amazon Books Review (EDA + Sentiment-Analysis)",
      "provenance": [],
      "include_colab_link": true
    }
  },
  "nbformat_minor": 0,
  "nbformat": 4,
  "cells": [
    {
      "cell_type": "markdown",
      "metadata": {
        "id": "view-in-github",
        "colab_type": "text"
      },
      "source": [
        "<a href=\"https://colab.research.google.com/github/harshil1818/Assignment-5-linear-regression/blob/main/Amazon_Books_Review_(EDA_%2B_Sentiment_Analysis).ipynb\" target=\"_parent\"><img src=\"https://colab.research.google.com/assets/colab-badge.svg\" alt=\"Open In Colab\"/></a>"
      ]
    },
    {
      "source": [
        "\n",
        "# IMPORTANT: RUN THIS CELL IN ORDER TO IMPORT YOUR KAGGLE DATA SOURCES\n",
        "# TO THE CORRECT LOCATION (/kaggle/input) IN YOUR NOTEBOOK,\n",
        "# THEN FEEL FREE TO DELETE THIS CELL.\n",
        "# NOTE: THIS NOTEBOOK ENVIRONMENT DIFFERS FROM KAGGLE'S PYTHON\n",
        "# ENVIRONMENT SO THERE MAY BE MISSING LIBRARIES USED BY YOUR\n",
        "# NOTEBOOK.\n",
        "\n",
        "import os\n",
        "import sys\n",
        "from tempfile import NamedTemporaryFile\n",
        "from urllib.request import urlopen\n",
        "from urllib.parse import unquote, urlparse\n",
        "from urllib.error import HTTPError\n",
        "from zipfile import ZipFile\n",
        "import tarfile\n",
        "import shutil\n",
        "\n",
        "CHUNK_SIZE = 40960\n",
        "DATA_SOURCE_MAPPING = 'amazon-books-reviews:https%3A%2F%2Fstorage.googleapis.com%2Fkaggle-data-sets%2F2476732%2F4200454%2Fbundle%2Farchive.zip%3FX-Goog-Algorithm%3DGOOG4-RSA-SHA256%26X-Goog-Credential%3Dgcp-kaggle-com%2540kaggle-161607.iam.gserviceaccount.com%252F20240421%252Fauto%252Fstorage%252Fgoog4_request%26X-Goog-Date%3D20240421T081753Z%26X-Goog-Expires%3D259200%26X-Goog-SignedHeaders%3Dhost%26X-Goog-Signature%3D2d8c9b4b45ca769cfd19b75150f06e63558467a283cf757d2a1d8f92c8f68e0d538d5d443ea93331b82cc5b1f7beac8bb6644e5b2469d858d2df866cd3baf99a20ce4cb896804ac8e60ce2162e47042b7b61122d00b2fb32aa99b93690fdde3c40b8dc2d29aef04d3841fcd24da9adf9c4861808e92e59b76c098fc7a8f792dbc43ea0529f8d9785da06383de43c86c3b3d8276c94669fff88c076862673a133d977a9b4e5096d6e26073c03d5a904b7a4e7bfb764ff73a359400169941087f1b37599079b19ebb37dad7020273d9ab19e75211a81599ca682aca7e3f38adad38f0b604bcd558ba553c9bb1db1a322b4bfdaca99263363429cf4ce55f0277206'\n",
        "\n",
        "KAGGLE_INPUT_PATH='/kaggle/input'\n",
        "KAGGLE_WORKING_PATH='/kaggle/working'\n",
        "KAGGLE_SYMLINK='kaggle'\n",
        "\n",
        "!umount /kaggle/input/ 2> /dev/null\n",
        "shutil.rmtree('/kaggle/input', ignore_errors=True)\n",
        "os.makedirs(KAGGLE_INPUT_PATH, 0o777, exist_ok=True)\n",
        "os.makedirs(KAGGLE_WORKING_PATH, 0o777, exist_ok=True)\n",
        "\n",
        "try:\n",
        "  os.symlink(KAGGLE_INPUT_PATH, os.path.join(\"..\", 'input'), target_is_directory=True)\n",
        "except FileExistsError:\n",
        "  pass\n",
        "try:\n",
        "  os.symlink(KAGGLE_WORKING_PATH, os.path.join(\"..\", 'working'), target_is_directory=True)\n",
        "except FileExistsError:\n",
        "  pass\n",
        "\n",
        "for data_source_mapping in DATA_SOURCE_MAPPING.split(','):\n",
        "    directory, download_url_encoded = data_source_mapping.split(':')\n",
        "    download_url = unquote(download_url_encoded)\n",
        "    filename = urlparse(download_url).path\n",
        "    destination_path = os.path.join(KAGGLE_INPUT_PATH, directory)\n",
        "    try:\n",
        "        with urlopen(download_url) as fileres, NamedTemporaryFile() as tfile:\n",
        "            total_length = fileres.headers['content-length']\n",
        "            print(f'Downloading {directory}, {total_length} bytes compressed')\n",
        "            dl = 0\n",
        "            data = fileres.read(CHUNK_SIZE)\n",
        "            while len(data) > 0:\n",
        "                dl += len(data)\n",
        "                tfile.write(data)\n",
        "                done = int(50 * dl / int(total_length))\n",
        "                sys.stdout.write(f\"\\r[{'=' * done}{' ' * (50-done)}] {dl} bytes downloaded\")\n",
        "                sys.stdout.flush()\n",
        "                data = fileres.read(CHUNK_SIZE)\n",
        "            if filename.endswith('.zip'):\n",
        "              with ZipFile(tfile) as zfile:\n",
        "                zfile.extractall(destination_path)\n",
        "            else:\n",
        "              with tarfile.open(tfile.name) as tarfile:\n",
        "                tarfile.extractall(destination_path)\n",
        "            print(f'\\nDownloaded and uncompressed: {directory}')\n",
        "    except HTTPError as e:\n",
        "        print(f'Failed to load (likely expired) {download_url} to path {destination_path}')\n",
        "        continue\n",
        "    except OSError as e:\n",
        "        print(f'Failed to load {download_url} to path {destination_path}')\n",
        "        continue\n",
        "\n",
        "print('Data source import complete.')\n"
      ],
      "metadata": {
        "id": "OSHmCZfbu7zE"
      },
      "cell_type": "code",
      "outputs": [],
      "execution_count": null
    },
    {
      "cell_type": "markdown",
      "source": [
        "# Amazon Books Review Analysis"
      ],
      "metadata": {
        "id": "P9AEF4JGu7zG"
      }
    },
    {
      "cell_type": "markdown",
      "source": [
        "## Importing Dependencies"
      ],
      "metadata": {
        "id": "j_UIe4hqu7zH"
      }
    },
    {
      "cell_type": "code",
      "source": [
        "!pip install vaderSentiment\n",
        "import pandas as pd\n",
        "import numpy as np\n",
        "import seaborn as sns\n",
        "import matplotlib.pyplot as plt\n",
        "from vaderSentiment.vaderSentiment import SentimentIntensityAnalyzer\n",
        "from sklearn.metrics import confusion_matrix\n",
        "from sklearn.linear_model import LogisticRegression\n",
        "from wordcloud import WordCloud"
      ],
      "metadata": {
        "papermill": {
          "duration": 1.135971,
          "end_time": "2023-01-14T10:11:33.103618",
          "exception": false,
          "start_time": "2023-01-14T10:11:31.967647",
          "status": "completed"
        },
        "tags": [],
        "execution": {
          "iopub.status.busy": "2024-04-21T08:15:32.34132Z",
          "iopub.execute_input": "2024-04-21T08:15:32.341706Z"
        },
        "trusted": true,
        "id": "LFGwp2mJu7zH",
        "outputId": "14b657a6-4f60-476c-e084-379c550fd069"
      },
      "execution_count": null,
      "outputs": [
        {
          "name": "stdout",
          "text": "\u001b[33mWARNING: Retrying (Retry(total=4, connect=None, read=None, redirect=None, status=None)) after connection broken by 'NewConnectionError('<pip._vendor.urllib3.connection.HTTPSConnection object at 0x7e95b70f86d0>: Failed to establish a new connection: [Errno -3] Temporary failure in name resolution')': /simple/vadersentiment/\u001b[0m\u001b[33m\n\u001b[0m\u001b[33mWARNING: Retrying (Retry(total=3, connect=None, read=None, redirect=None, status=None)) after connection broken by 'NewConnectionError('<pip._vendor.urllib3.connection.HTTPSConnection object at 0x7e95b70f8460>: Failed to establish a new connection: [Errno -3] Temporary failure in name resolution')': /simple/vadersentiment/\u001b[0m\u001b[33m\n\u001b[0m\u001b[33mWARNING: Retrying (Retry(total=2, connect=None, read=None, redirect=None, status=None)) after connection broken by 'NewConnectionError('<pip._vendor.urllib3.connection.HTTPSConnection object at 0x7e95b70f9660>: Failed to establish a new connection: [Errno -3] Temporary failure in name resolution')': /simple/vadersentiment/\u001b[0m\u001b[33m\n\u001b[0m\u001b[33mWARNING: Retrying (Retry(total=1, connect=None, read=None, redirect=None, status=None)) after connection broken by 'NewConnectionError('<pip._vendor.urllib3.connection.HTTPSConnection object at 0x7e95b70f9810>: Failed to establish a new connection: [Errno -3] Temporary failure in name resolution')': /simple/vadersentiment/\u001b[0m\u001b[33m\n\u001b[0m\u001b[33mWARNING: Retrying (Retry(total=0, connect=None, read=None, redirect=None, status=None)) after connection broken by 'NewConnectionError('<pip._vendor.urllib3.connection.HTTPSConnection object at 0x7e95b70f99c0>: Failed to establish a new connection: [Errno -3] Temporary failure in name resolution')': /simple/vadersentiment/\u001b[0m\u001b[33m\n\u001b[0m",
          "output_type": "stream"
        }
      ]
    },
    {
      "cell_type": "markdown",
      "source": [
        "## Reading Data from file"
      ],
      "metadata": {
        "id": "fJWAhIzlu7zH"
      }
    },
    {
      "cell_type": "code",
      "source": [
        "br = pd.read_csv(r\"/kaggle/input/amazon-books-reviews/Books_rating.csv\")\n",
        "bd = pd.read_csv(r\"/kaggle/input/amazon-books-reviews/books_data.csv\")"
      ],
      "metadata": {
        "papermill": {
          "duration": 79.146939,
          "end_time": "2023-01-14T10:12:52.261998",
          "exception": false,
          "start_time": "2023-01-14T10:11:33.115059",
          "status": "completed"
        },
        "tags": [],
        "trusted": true,
        "id": "XNp-h9Oku7zI"
      },
      "execution_count": null,
      "outputs": []
    },
    {
      "cell_type": "code",
      "source": [
        "br.head(5)"
      ],
      "metadata": {
        "papermill": {
          "duration": 0.043052,
          "end_time": "2023-01-14T10:12:52.316404",
          "exception": false,
          "start_time": "2023-01-14T10:12:52.273352",
          "status": "completed"
        },
        "tags": [],
        "trusted": true,
        "id": "Of62rEtVu7zI"
      },
      "execution_count": null,
      "outputs": []
    },
    {
      "cell_type": "code",
      "source": [
        "bd.head(5)"
      ],
      "metadata": {
        "papermill": {
          "duration": 0.030964,
          "end_time": "2023-01-14T10:12:52.359224",
          "exception": false,
          "start_time": "2023-01-14T10:12:52.32826",
          "status": "completed"
        },
        "tags": [],
        "trusted": true,
        "id": "Kx0tCCYpu7zJ"
      },
      "execution_count": null,
      "outputs": []
    },
    {
      "cell_type": "markdown",
      "source": [
        "## **Data Pre-Processing**"
      ],
      "metadata": {
        "papermill": {
          "duration": 0.011601,
          "end_time": "2023-01-14T10:12:52.382552",
          "exception": false,
          "start_time": "2023-01-14T10:12:52.370951",
          "status": "completed"
        },
        "tags": [],
        "id": "MbXGXN8Qu7zJ"
      }
    },
    {
      "cell_type": "markdown",
      "source": [
        "### Merging both the dataset"
      ],
      "metadata": {
        "id": "SjTEgx0su7zJ"
      }
    },
    {
      "cell_type": "code",
      "source": [
        "books = pd.merge(br,bd, on = 'Title')\n",
        "books.shape"
      ],
      "metadata": {
        "papermill": {
          "duration": 3.242297,
          "end_time": "2023-01-14T10:12:55.63671",
          "exception": false,
          "start_time": "2023-01-14T10:12:52.394413",
          "status": "completed"
        },
        "tags": [],
        "trusted": true,
        "id": "YvyBPX4ku7zJ"
      },
      "execution_count": null,
      "outputs": []
    },
    {
      "cell_type": "markdown",
      "source": [
        "### extracting useful columns"
      ],
      "metadata": {
        "id": "qyFGummGu7zJ"
      }
    },
    {
      "cell_type": "code",
      "source": [
        "df = books[['Title','review/score','review/text','authors','categories','ratingsCount']]"
      ],
      "metadata": {
        "papermill": {
          "duration": 2.606689,
          "end_time": "2023-01-14T10:12:58.255829",
          "exception": false,
          "start_time": "2023-01-14T10:12:55.64914",
          "status": "completed"
        },
        "tags": [],
        "trusted": true,
        "id": "Js3gz3C2u7zJ"
      },
      "execution_count": null,
      "outputs": []
    },
    {
      "cell_type": "markdown",
      "source": [
        "### Dropping Duplicates"
      ],
      "metadata": {
        "id": "42LJRqLNu7zJ"
      }
    },
    {
      "cell_type": "code",
      "source": [
        "df.drop_duplicates(inplace = True)\n",
        "df.shape"
      ],
      "metadata": {
        "papermill": {
          "duration": 5.579396,
          "end_time": "2023-01-14T10:13:03.84789",
          "exception": false,
          "start_time": "2023-01-14T10:12:58.268494",
          "status": "completed"
        },
        "tags": [],
        "trusted": true,
        "id": "zxu2rpxRu7zJ"
      },
      "execution_count": null,
      "outputs": []
    },
    {
      "cell_type": "code",
      "source": [
        "df.isna().sum()"
      ],
      "metadata": {
        "papermill": {
          "duration": 0.71212,
          "end_time": "2023-01-14T10:13:04.573457",
          "exception": false,
          "start_time": "2023-01-14T10:13:03.861337",
          "status": "completed"
        },
        "tags": [],
        "trusted": true,
        "id": "hhJDdEHKu7zK"
      },
      "execution_count": null,
      "outputs": []
    },
    {
      "cell_type": "markdown",
      "source": [
        "### Dropping Null Values"
      ],
      "metadata": {
        "id": "Zt0_v0wdu7zK"
      }
    },
    {
      "cell_type": "code",
      "source": [
        "df.dropna(inplace = True)\n",
        "df.isna().sum()"
      ],
      "metadata": {
        "papermill": {
          "duration": 1.294736,
          "end_time": "2023-01-14T10:13:05.881293",
          "exception": false,
          "start_time": "2023-01-14T10:13:04.586557",
          "status": "completed"
        },
        "tags": [],
        "trusted": true,
        "id": "L1HzaB7lu7zK"
      },
      "execution_count": null,
      "outputs": []
    },
    {
      "cell_type": "code",
      "source": [
        "df.info()"
      ],
      "metadata": {
        "papermill": {
          "duration": 0.391517,
          "end_time": "2023-01-14T10:13:06.285068",
          "exception": false,
          "start_time": "2023-01-14T10:13:05.893551",
          "status": "completed"
        },
        "tags": [],
        "trusted": true,
        "id": "e7cjw7UHu7zK"
      },
      "execution_count": null,
      "outputs": []
    },
    {
      "cell_type": "code",
      "source": [
        "df.shape"
      ],
      "metadata": {
        "papermill": {
          "duration": 0.030942,
          "end_time": "2023-01-14T10:13:06.329827",
          "exception": false,
          "start_time": "2023-01-14T10:13:06.298885",
          "status": "completed"
        },
        "tags": [],
        "trusted": true,
        "id": "d3QGE3rAu7zK"
      },
      "execution_count": null,
      "outputs": []
    },
    {
      "cell_type": "markdown",
      "source": [
        "### Using only the fraction of dataset to reduce the running time on big data"
      ],
      "metadata": {
        "id": "u_X384g7u7zK"
      }
    },
    {
      "cell_type": "code",
      "source": [
        "data = df.sample(15000)\n",
        "data.shape"
      ],
      "metadata": {
        "papermill": {
          "duration": 0.103121,
          "end_time": "2023-01-14T10:13:06.445935",
          "exception": false,
          "start_time": "2023-01-14T10:13:06.342814",
          "status": "completed"
        },
        "tags": [],
        "trusted": true,
        "id": "scZf9Jz3u7zK"
      },
      "execution_count": null,
      "outputs": []
    },
    {
      "cell_type": "markdown",
      "source": [
        "### Removing brackets and colons from authors name"
      ],
      "metadata": {
        "id": "Mu35hE-ou7zK"
      }
    },
    {
      "cell_type": "code",
      "source": [
        "data['authors'] = data['authors'].str.extract(r'\\'(.*)\\'')"
      ],
      "metadata": {
        "papermill": {
          "duration": 0.737052,
          "end_time": "2023-01-14T10:13:07.195742",
          "exception": false,
          "start_time": "2023-01-14T10:13:06.45869",
          "status": "completed"
        },
        "tags": [],
        "trusted": true,
        "id": "sr8ocprMu7zK"
      },
      "execution_count": null,
      "outputs": []
    },
    {
      "cell_type": "markdown",
      "source": [
        "### Removes brackets and colons from categories"
      ],
      "metadata": {
        "id": "jKpsT8Fgu7zK"
      }
    },
    {
      "cell_type": "code",
      "source": [
        "data['categories'] = data['categories'].str.extract(r'\\'(.*)\\'')"
      ],
      "metadata": {
        "trusted": true,
        "id": "3g8pxf0Su7zK"
      },
      "execution_count": null,
      "outputs": []
    },
    {
      "cell_type": "markdown",
      "source": [
        "### Counting the length of each review"
      ],
      "metadata": {
        "id": "6t4itC6Nu7zK"
      }
    },
    {
      "cell_type": "code",
      "source": [
        "data['word_count'] = data['review/text'].apply(lambda x: len(x.split(' ')))"
      ],
      "metadata": {
        "papermill": {
          "duration": 0.737052,
          "end_time": "2023-01-14T10:13:07.195742",
          "exception": false,
          "start_time": "2023-01-14T10:13:06.45869",
          "status": "completed"
        },
        "tags": [],
        "trusted": true,
        "id": "08S_3SeZu7zK"
      },
      "execution_count": null,
      "outputs": []
    },
    {
      "cell_type": "code",
      "source": [
        "data.head()"
      ],
      "metadata": {
        "papermill": {
          "duration": 0.737052,
          "end_time": "2023-01-14T10:13:07.195742",
          "exception": false,
          "start_time": "2023-01-14T10:13:06.45869",
          "status": "completed"
        },
        "tags": [],
        "trusted": true,
        "id": "J5fwy-8xu7zK"
      },
      "execution_count": null,
      "outputs": []
    },
    {
      "cell_type": "code",
      "source": [
        "## data.to_csv('sample.csv', index=False)"
      ],
      "metadata": {
        "trusted": true,
        "id": "bRLR2_u1u7zK"
      },
      "execution_count": null,
      "outputs": []
    },
    {
      "cell_type": "markdown",
      "source": [
        "# **EDA**"
      ],
      "metadata": {
        "papermill": {
          "duration": 0.012973,
          "end_time": "2023-01-14T10:13:07.22221",
          "exception": false,
          "start_time": "2023-01-14T10:13:07.209237",
          "status": "completed"
        },
        "tags": [],
        "id": "EBd8S1myu7zK"
      }
    },
    {
      "cell_type": "markdown",
      "source": [
        "## Distribution of Books in Market based on Genre"
      ],
      "metadata": {
        "papermill": {
          "duration": 0.01291,
          "end_time": "2023-01-14T10:13:07.249176",
          "exception": false,
          "start_time": "2023-01-14T10:13:07.236266",
          "status": "completed"
        },
        "tags": [],
        "id": "6GMaL6cZu7zK"
      }
    },
    {
      "cell_type": "code",
      "source": [
        "plt.figure(figsize=(7,7))\n",
        "labels=['Fiction','Juvenile Fiction','Biography & Autobiography','Religion','History','Business & Economics','Computers','Cooking','Social Science','Family & Relationships']\n",
        "plt.pie(data['categories'].value_counts().head(10),explode=(0.1,0,0,0,0,0,0,0,0,0), labels=labels,autopct='%1.1f%%', shadow=True)\n",
        "plt.title('Distribution of Books Based on Genre', fontsize = 20)\n",
        "plt.axis('off')\n",
        "plt.legend()\n",
        "plt.show()"
      ],
      "metadata": {
        "papermill": {
          "duration": 0.582997,
          "end_time": "2023-01-14T10:13:07.84544",
          "exception": false,
          "start_time": "2023-01-14T10:13:07.262443",
          "status": "completed"
        },
        "tags": [],
        "trusted": true,
        "id": "K8cVajmbu7zL"
      },
      "execution_count": null,
      "outputs": []
    },
    {
      "cell_type": "markdown",
      "source": [
        "## Most frequent Words in over 3 rated Reviews"
      ],
      "metadata": {
        "papermill": {
          "duration": 0.014362,
          "end_time": "2023-01-14T10:13:08.215688",
          "exception": false,
          "start_time": "2023-01-14T10:13:08.201326",
          "status": "completed"
        },
        "tags": [],
        "id": "NSip6F8Bu7zL"
      }
    },
    {
      "cell_type": "code",
      "source": [
        "from wordcloud import WordCloud\n",
        "\n",
        "wc = WordCloud(width=500,height=500,min_font_size=15,background_color='white')\n",
        "spam_wc = wc.generate(data[data['review/score'] > 3]['review/text'].str.cat(sep=\" \"))\n",
        "\n",
        "plt.figure(figsize=(7,7))\n",
        "plt.axis('off')\n",
        "plt.imshow(spam_wc)"
      ],
      "metadata": {
        "papermill": {
          "duration": 21.169646,
          "end_time": "2023-01-14T10:13:29.399756",
          "exception": false,
          "start_time": "2023-01-14T10:13:08.23011",
          "status": "completed"
        },
        "tags": [],
        "trusted": true,
        "id": "eLWQx-wzu7zL"
      },
      "execution_count": null,
      "outputs": []
    },
    {
      "cell_type": "markdown",
      "source": [
        "## Most Reviewed Books"
      ],
      "metadata": {
        "papermill": {
          "duration": 0.021344,
          "end_time": "2023-01-14T10:13:31.964684",
          "exception": false,
          "start_time": "2023-01-14T10:13:31.94334",
          "status": "completed"
        },
        "tags": [],
        "id": "xBDSgnHru7zL"
      }
    },
    {
      "cell_type": "code",
      "source": [
        "import matplotlib.pyplot as plt\n",
        "import seaborn as sns\n",
        "plt.figure(figsize=(7, 7))\n",
        "cou = data[data['word_count'] > 1707][['Title', 'word_count']].sort_values(by='word_count', ascending=False)\n",
        "colors = sns.color_palette('husl', n_colors=len(cou))\n",
        "bars = plt.bar(cou['Title'], cou['word_count'], color=colors)\n",
        "plt.title('Most Reviewed Books by Word Count', fontsize=20)\n",
        "plt.xticks(rotation=90)\n",
        "plt.show()"
      ],
      "metadata": {
        "papermill": {
          "duration": 0.401097,
          "end_time": "2023-01-14T10:13:32.387322",
          "exception": false,
          "start_time": "2023-01-14T10:13:31.986225",
          "status": "completed"
        },
        "tags": [],
        "trusted": true,
        "id": "OYWVJ8cju7zL"
      },
      "execution_count": null,
      "outputs": []
    },
    {
      "cell_type": "markdown",
      "source": [
        "## Highest Rated Books with over 4000 ratings each Book"
      ],
      "metadata": {
        "papermill": {
          "duration": 0.022743,
          "end_time": "2023-01-14T10:13:32.432716",
          "exception": false,
          "start_time": "2023-01-14T10:13:32.409973",
          "status": "completed"
        },
        "tags": [],
        "id": "d-KlPK49u7zL"
      }
    },
    {
      "cell_type": "code",
      "source": [
        "plt.figure(figsize = (7, 7))\n",
        "rating_counts = data[data['ratingsCount'] > 4000][['Title','ratingsCount']].drop_duplicates()\n",
        "plt.bar(rating_counts['Title'],rating_counts['ratingsCount'])\n",
        "plt.title('Higest Rated Books with over 4000 ratings each Book', fontsize = 15)\n",
        "plt.show()"
      ],
      "metadata": {
        "papermill": {
          "duration": 1.263174,
          "end_time": "2023-01-14T10:13:33.71858",
          "exception": false,
          "start_time": "2023-01-14T10:13:32.455406",
          "status": "completed"
        },
        "tags": [],
        "trusted": true,
        "id": "BMCPNzwZu7zL"
      },
      "execution_count": null,
      "outputs": []
    },
    {
      "cell_type": "markdown",
      "source": [
        "## In which Genres readers give Positive and Negative Ratings"
      ],
      "metadata": {
        "papermill": {
          "duration": 0.026062,
          "end_time": "2023-01-14T10:13:34.252904",
          "exception": false,
          "start_time": "2023-01-14T10:13:34.226842",
          "status": "completed"
        },
        "tags": [],
        "id": "Ox4dNzbGu7zP"
      }
    },
    {
      "cell_type": "code",
      "source": [
        "# Convert 'review/score' column to numeric (if applicable)\n",
        "data['review/score'] = pd.to_numeric(data['review/score'], errors='coerce')\n",
        "\n",
        "# Filter out non-numeric values (if any)\n",
        "numeric_data = data.dropna(subset=['review/score'])\n",
        "\n",
        "# Group by 'categories' and compute the mean of 'review/score'\n",
        "avg_cat_rating = numeric_data.groupby('categories')['review/score'].mean().sort_values(ascending=False).head(10)\n",
        "avg_cat_rating_d = numeric_data.groupby('categories')['review/score'].mean().sort_values().head(10)\n",
        "\n",
        "# Plot the bar chart for top and bottom categories\n",
        "plt.figure(figsize=(10, 10))\n",
        "plt.bar(avg_cat_rating.index, avg_cat_rating, color='blue', label='Top 10')\n",
        "plt.bar(avg_cat_rating_d.index, avg_cat_rating_d, color='red', label='Bottom 10')\n",
        "plt.title('Average Ratings on Book Genres', fontsize=15)\n",
        "plt.xticks(rotation='vertical')\n",
        "plt.ylabel('Ratings')\n",
        "plt.legend()\n",
        "plt.show()"
      ],
      "metadata": {
        "papermill": {
          "duration": 0.324298,
          "end_time": "2023-01-14T10:13:34.602526",
          "exception": false,
          "start_time": "2023-01-14T10:13:34.278228",
          "status": "completed"
        },
        "tags": [],
        "trusted": true,
        "id": "cq2SSXU1u7zP"
      },
      "execution_count": null,
      "outputs": []
    },
    {
      "cell_type": "markdown",
      "source": [
        "## Top 10 Authors with 5 star Ratings"
      ],
      "metadata": {
        "papermill": {
          "duration": 0.028844,
          "end_time": "2023-01-14T10:13:34.657082",
          "exception": false,
          "start_time": "2023-01-14T10:13:34.628238",
          "status": "completed"
        },
        "tags": [],
        "id": "3Q0QwAa2u7zP"
      }
    },
    {
      "cell_type": "code",
      "source": [
        "# Convert 'review/score' column to numeric, coercing errors to NaN\n",
        "data['review/score'] = pd.to_numeric(data['review/score'], errors='coerce')\n",
        "\n",
        "# Group by 'authors', compute the mean of 'review/score', and plot the top 10 authors\n",
        "top_authors = data.groupby('authors')['review/score'].mean().nlargest(10)\n",
        "top_authors.plot(kind='barh', figsize=(7, 7))\n",
        "plt.title('Top 10 Authors with Highest Average Ratings')\n",
        "plt.xlabel('Average Ratings')\n",
        "plt.ylabel('Authors')\n",
        "plt.show()"
      ],
      "metadata": {
        "papermill": {
          "duration": 0.266631,
          "end_time": "2023-01-14T10:13:34.949313",
          "exception": false,
          "start_time": "2023-01-14T10:13:34.682682",
          "status": "completed"
        },
        "tags": [],
        "trusted": true,
        "id": "ts5-UxjPu7zP"
      },
      "execution_count": null,
      "outputs": []
    },
    {
      "cell_type": "markdown",
      "source": [
        "## Top 10 Authors with 1 star Ratings"
      ],
      "metadata": {
        "papermill": {
          "duration": 0.026063,
          "end_time": "2023-01-14T10:13:35.001696",
          "exception": false,
          "start_time": "2023-01-14T10:13:34.975633",
          "status": "completed"
        },
        "tags": [],
        "id": "Afffkj3Uu7zP"
      }
    },
    {
      "cell_type": "code",
      "source": [
        "# Grouping the data by authors and calculating the mean review score for each author\n",
        "average_scores_by_author = data.groupby('authors')['review/score'].mean()\n",
        "\n",
        "# Sorting the authors based on their average review scores and selecting the bottom 10 (lowest scores)\n",
        "bottom_10_authors = average_scores_by_author.sort_values(ascending=True).head(10)\n",
        "\n",
        "# Creating a horizontal bar plot to show the top 10 authors with the lowest average review scores\n",
        "bottom_10_authors.plot(kind='barh', figsize=(7,7))\n",
        "\n",
        "# Setting the title for the plot\n",
        "plt.title('Top 10 Authors with 1-star Ratings', fontsize=15)\n",
        "\n",
        "# Displaying the plot\n",
        "plt.show()\n"
      ],
      "metadata": {
        "papermill": {
          "duration": 0.293058,
          "end_time": "2023-01-14T10:13:35.321442",
          "exception": false,
          "start_time": "2023-01-14T10:13:35.028384",
          "status": "completed"
        },
        "tags": [],
        "trusted": true,
        "id": "frirMHKru7zP"
      },
      "execution_count": null,
      "outputs": []
    },
    {
      "cell_type": "markdown",
      "source": [
        "## Number of Books written by each Author"
      ],
      "metadata": {
        "papermill": {
          "duration": 0.031371,
          "end_time": "2023-01-14T10:13:35.38924",
          "exception": false,
          "start_time": "2023-01-14T10:13:35.357869",
          "status": "completed"
        },
        "tags": [],
        "id": "96pVT_fgu7zP"
      }
    },
    {
      "cell_type": "code",
      "source": [
        "data['authors'].value_counts().head(20).sort_values(ascending = True).plot(kind='barh', figsize=(7,7))\n",
        "plt.title('Number of Books written by the Authors', fontsize = 15)\n",
        "plt.ylabel('Name Of Author')\n",
        "plt.xlabel('Number of Books Written')\n",
        "plt.show()"
      ],
      "metadata": {
        "papermill": {
          "duration": 0.316562,
          "end_time": "2023-01-14T10:13:35.734195",
          "exception": false,
          "start_time": "2023-01-14T10:13:35.417633",
          "status": "completed"
        },
        "tags": [],
        "trusted": true,
        "id": "XFOo_tMEu7zP"
      },
      "execution_count": null,
      "outputs": []
    },
    {
      "cell_type": "markdown",
      "source": [
        "# **Sentiment Analysis**"
      ],
      "metadata": {
        "papermill": {
          "duration": 0.027626,
          "end_time": "2023-01-14T10:13:35.789911",
          "exception": false,
          "start_time": "2023-01-14T10:13:35.762285",
          "status": "completed"
        },
        "tags": [],
        "id": "Yx1ttl7Du7zP"
      }
    },
    {
      "cell_type": "code",
      "source": [
        "pip install vaderSentiment"
      ],
      "metadata": {
        "_kg_hide-output": true,
        "papermill": {
          "duration": 13.508965,
          "end_time": "2023-01-14T10:13:49.327282",
          "exception": false,
          "start_time": "2023-01-14T10:13:35.818317",
          "status": "completed"
        },
        "tags": [],
        "trusted": true,
        "id": "F5f2HTVLu7zP"
      },
      "execution_count": null,
      "outputs": []
    },
    {
      "cell_type": "code",
      "source": [
        "from vaderSentiment.vaderSentiment import SentimentIntensityAnalyzer\n",
        "vader = SentimentIntensityAnalyzer()"
      ],
      "metadata": {
        "papermill": {
          "duration": 0.059841,
          "end_time": "2023-01-14T10:13:49.417139",
          "exception": false,
          "start_time": "2023-01-14T10:13:49.357298",
          "status": "completed"
        },
        "tags": [],
        "trusted": true,
        "id": "DMRT4kOOu7zQ"
      },
      "execution_count": null,
      "outputs": []
    },
    {
      "cell_type": "code",
      "source": [
        "data.head(2)"
      ],
      "metadata": {
        "papermill": {
          "duration": 0.052462,
          "end_time": "2023-01-14T10:17:16.411839",
          "exception": false,
          "start_time": "2023-01-14T10:17:16.359377",
          "status": "completed"
        },
        "tags": [],
        "trusted": true,
        "id": "B8cVm3Fcu7zQ"
      },
      "execution_count": null,
      "outputs": []
    },
    {
      "cell_type": "code",
      "source": [
        "# Lower casing the reviews\n",
        "data['clean_reviews'] = data['review/text'].str.lower()\n",
        "# Calculating Polarity score of reviews\n",
        "data['score'] = data['clean_reviews'].apply(lambda review: vader.polarity_scores(review))\n",
        "# Extracting compound column\n",
        "data['compound']  = data['score'].apply(lambda score_dict: score_dict['compound'])"
      ],
      "metadata": {
        "papermill": {
          "duration": 206.880999,
          "end_time": "2023-01-14T10:17:16.328768",
          "exception": false,
          "start_time": "2023-01-14T10:13:49.447769",
          "status": "completed"
        },
        "tags": [],
        "trusted": true,
        "id": "XdUmzAMuu7zQ"
      },
      "execution_count": null,
      "outputs": []
    },
    {
      "cell_type": "code",
      "source": [
        "# if compound value is more than 0.05 then it precive as positive\n",
        "# if compound value is less than -0.0 then it precive as negative\n",
        "# if compound value is equal to 0.0 then it precive as neutral\n",
        "\n",
        "data['Sentiment'] = data['compound'].apply(lambda x: 'positive' if x >= 0.05 else 'negative' if x < -0.05 else 'neutral')\n",
        "data.head()"
      ],
      "metadata": {
        "_kg_hide-input": true,
        "_kg_hide-output": true,
        "papermill": {
          "duration": 0.070113,
          "end_time": "2023-01-14T10:17:16.514699",
          "exception": false,
          "start_time": "2023-01-14T10:17:16.444586",
          "status": "completed"
        },
        "tags": [],
        "trusted": true,
        "id": "alf-Ni7Hu7zQ"
      },
      "execution_count": null,
      "outputs": []
    },
    {
      "cell_type": "markdown",
      "source": [
        "## Distribution of Negative, Neutral and Positive Sentiment in whole corpus"
      ],
      "metadata": {
        "papermill": {
          "duration": 0.031553,
          "end_time": "2023-01-14T10:17:16.579807",
          "exception": false,
          "start_time": "2023-01-14T10:17:16.548254",
          "status": "completed"
        },
        "tags": [],
        "id": "hqJaakO9u7zQ"
      }
    },
    {
      "cell_type": "code",
      "source": [
        "import matplotlib.pyplot as plt\n",
        "\n",
        "# Create a figure and subplots with 1 row and 2 columns\n",
        "plt.figure(figsize=(12, 5))\n",
        "\n",
        "# Plot 1 - Pie chart for sentiment distribution\n",
        "plt.subplot(1, 2, 1)\n",
        "labels = ['Positive', 'Negative', 'Neutral']\n",
        "sizes = data['Sentiment'].value_counts()\n",
        "colors = ['green', 'red', 'blue']\n",
        "explode = (0.1, 0.1, 0.1)\n",
        "\n",
        "plt.pie(sizes, explode=explode, labels=labels, colors=colors, autopct='%1.1f%%', shadow=True)\n",
        "plt.title('Sentiment Distribution')\n",
        "\n",
        "# Plot 2 - Histogram for sentiment distribution\n",
        "plt.subplot(1, 2, 2)\n",
        "positive = data[data['compound'] > 0]['compound']\n",
        "negative = data[data['compound'] < 0]['compound']\n",
        "neutral = data[data['compound'] == 0]['compound']\n",
        "\n",
        "sentiments = [positive, negative, neutral]\n",
        "colors = ['green', 'red', 'orange']\n",
        "labels = ['Positive Sentiments', 'Negative Sentiments', 'Neutral Sentiments']\n",
        "\n",
        "for sentiment, color, label in zip(sentiments, colors, labels):\n",
        "    plt.hist(sentiment, bins=20, color=color, alpha=0.5, label=label)\n",
        "\n",
        "plt.title('Sentiment Distribution')\n",
        "plt.xlabel('Compound')\n",
        "plt.ylabel('Count')\n",
        "plt.legend()\n",
        "\n",
        "plt.tight_layout()\n",
        "plt.show()\n"
      ],
      "metadata": {
        "papermill": {
          "duration": 0.306911,
          "end_time": "2023-01-14T10:17:16.919267",
          "exception": false,
          "start_time": "2023-01-14T10:17:16.612356",
          "status": "completed"
        },
        "tags": [],
        "trusted": true,
        "id": "6sWGt6mlu7zQ"
      },
      "execution_count": null,
      "outputs": []
    },
    {
      "cell_type": "code",
      "source": [
        "data['Sentiment'].value_counts().plot(kind = 'bar', figsize = (8,5))\n",
        "plt.xticks(rotation = 'horizontal')\n",
        "plt.title('Sentiment Distribution',fontsize = 15)\n",
        "plt.grid()\n",
        "plt.show()"
      ],
      "metadata": {
        "papermill": {
          "duration": 0.245386,
          "end_time": "2023-01-14T10:17:17.539261",
          "exception": false,
          "start_time": "2023-01-14T10:17:17.293875",
          "status": "completed"
        },
        "tags": [],
        "trusted": true,
        "id": "No-cfyacu7zQ"
      },
      "execution_count": null,
      "outputs": []
    },
    {
      "cell_type": "markdown",
      "source": [
        "## Most number of **Positive** Reviews on the Books"
      ],
      "metadata": {
        "papermill": {
          "duration": 0.032214,
          "end_time": "2023-01-14T10:17:17.606369",
          "exception": false,
          "start_time": "2023-01-14T10:17:17.574155",
          "status": "completed"
        },
        "tags": [],
        "id": "e4GknC6Wu7zQ"
      }
    },
    {
      "cell_type": "code",
      "source": [
        "data[data['Sentiment'] == 'positive']['Title'].value_counts().head(50).plot(kind = 'bar', figsize = (7,7))\n",
        "plt.title('Number of Positive Reviews on the Books',fontsize = 15)\n",
        "plt.xticks(rotation = 90)\n",
        "plt.show()"
      ],
      "metadata": {
        "papermill": {
          "duration": 1.327031,
          "end_time": "2023-01-14T10:17:18.965924",
          "exception": false,
          "start_time": "2023-01-14T10:17:17.638893",
          "status": "completed"
        },
        "tags": [],
        "trusted": true,
        "id": "sxsqbm0du7zQ"
      },
      "execution_count": null,
      "outputs": []
    },
    {
      "cell_type": "markdown",
      "source": [
        "## Most number of **Neutral** Reviews on the Books"
      ],
      "metadata": {
        "papermill": {
          "duration": 0.036282,
          "end_time": "2023-01-14T10:17:19.040422",
          "exception": false,
          "start_time": "2023-01-14T10:17:19.00414",
          "status": "completed"
        },
        "tags": [],
        "id": "iWL52K3Mu7zQ"
      }
    },
    {
      "cell_type": "code",
      "source": [
        "data[data['Sentiment'] == 'neutral']['Title'].value_counts().head(50).plot(kind = 'bar', figsize = (7,7))\n",
        "plt.title('Number of Neutral Reviews on the Books',fontsize = 15)\n",
        "plt.xticks(rotation = 90)\n",
        "plt.show()"
      ],
      "metadata": {
        "papermill": {
          "duration": 1.281916,
          "end_time": "2023-01-14T10:17:20.357613",
          "exception": false,
          "start_time": "2023-01-14T10:17:19.075697",
          "status": "completed"
        },
        "tags": [],
        "trusted": true,
        "id": "lzaO6yTdu7zQ"
      },
      "execution_count": null,
      "outputs": []
    },
    {
      "cell_type": "markdown",
      "source": [
        "## Most number of **Negative** Reviews on the Books"
      ],
      "metadata": {
        "papermill": {
          "duration": 0.040165,
          "end_time": "2023-01-14T10:17:20.438103",
          "exception": false,
          "start_time": "2023-01-14T10:17:20.397938",
          "status": "completed"
        },
        "tags": [],
        "id": "mgI2WJFcu7zQ"
      }
    },
    {
      "cell_type": "code",
      "source": [
        "data[data['Sentiment'] == 'negative']['Title'].value_counts().head(50).plot(kind = 'bar', figsize = (7,7))\n",
        "plt.title('Number of Negative Reviews on the Books',fontsize = 15)\n",
        "plt.xticks(rotation = 90)\n",
        "plt.show()"
      ],
      "metadata": {
        "papermill": {
          "duration": 1.33596,
          "end_time": "2023-01-14T10:17:21.81393",
          "exception": false,
          "start_time": "2023-01-14T10:17:20.47797",
          "status": "completed"
        },
        "tags": [],
        "trusted": true,
        "id": "8p2fLs2Yu7zQ"
      },
      "execution_count": null,
      "outputs": []
    },
    {
      "cell_type": "markdown",
      "source": [
        "## Dataframe of Reviews vs Sentiments"
      ],
      "metadata": {
        "id": "OKy8R-9Pu7zQ"
      }
    },
    {
      "cell_type": "code",
      "source": [
        "reviews_df = data[['clean_reviews', 'Sentiment']]"
      ],
      "metadata": {
        "trusted": true,
        "id": "alk69IEOu7zQ"
      },
      "execution_count": null,
      "outputs": []
    },
    {
      "cell_type": "code",
      "source": [
        "reviews_df.head()"
      ],
      "metadata": {
        "trusted": true,
        "id": "KP3u1AqUu7zQ"
      },
      "execution_count": null,
      "outputs": []
    },
    {
      "cell_type": "markdown",
      "source": [
        "## Dividing Data into x & y"
      ],
      "metadata": {
        "id": "P1JOwg5Wu7zQ"
      }
    },
    {
      "cell_type": "code",
      "source": [
        "x = reviews_df.drop(['Sentiment'], axis=1)\n",
        "y = reviews_df['Sentiment']"
      ],
      "metadata": {
        "trusted": true,
        "id": "8Io-3S2Gu7zR"
      },
      "execution_count": null,
      "outputs": []
    },
    {
      "cell_type": "code",
      "source": [
        "x.shape"
      ],
      "metadata": {
        "scrolled": true,
        "trusted": true,
        "id": "fm__V4T9u7zR"
      },
      "execution_count": null,
      "outputs": []
    },
    {
      "cell_type": "code",
      "source": [
        "y.shape"
      ],
      "metadata": {
        "trusted": true,
        "id": "mvfujUeIu7zR"
      },
      "execution_count": null,
      "outputs": []
    },
    {
      "cell_type": "markdown",
      "source": [
        "# **text - preprocessing**"
      ],
      "metadata": {
        "id": "dgN4UxZiu7zR"
      }
    },
    {
      "cell_type": "code",
      "source": [
        "import numpy as np # basic Libraries\n",
        "import pandas as pd\n",
        "import seaborn as sns\n",
        "import nltk"
      ],
      "metadata": {
        "trusted": true,
        "id": "BNFONWj2u7zR"
      },
      "execution_count": null,
      "outputs": []
    },
    {
      "cell_type": "code",
      "source": [
        "!pip install -U nltk"
      ],
      "metadata": {
        "trusted": true,
        "id": "0JzkKCL2u7zR"
      },
      "execution_count": null,
      "outputs": []
    },
    {
      "cell_type": "code",
      "source": [
        "nltk.download('stopwords')\n",
        "nltk.download('wordnet')\n",
        "nltk.download('omw-1.4')"
      ],
      "metadata": {
        "trusted": true,
        "id": "PhEmFkGou7zR"
      },
      "execution_count": null,
      "outputs": []
    },
    {
      "cell_type": "code",
      "source": [
        "import re # regular expression module\n",
        "stemmer = nltk.SnowballStemmer(\"english\") # for stemming\n",
        "from nltk.corpus import stopwords\n",
        "import string\n",
        "stopword=set(stopwords.words('english')) # for stopword"
      ],
      "metadata": {
        "trusted": true,
        "id": "MbTkeSxTu7zR"
      },
      "execution_count": null,
      "outputs": []
    },
    {
      "cell_type": "code",
      "source": [
        "from nltk.stem import WordNetLemmatizer\n",
        "from nltk.tokenize import word_tokenize\n",
        "from nltk.tokenize.toktok import ToktokTokenizer\n",
        "from nltk.stem import LancasterStemmer,WordNetLemmatizer\n",
        "import re, string, unicodedata\n",
        "from string import punctuation"
      ],
      "metadata": {
        "trusted": true,
        "id": "FNKFZ_INu7zR"
      },
      "execution_count": null,
      "outputs": []
    },
    {
      "cell_type": "code",
      "source": [
        "def hapus_url(text):\n",
        "    return re.sub(r'http\\S+','', text)\n",
        "\n",
        "def remove_special_characters(text, remove_digits=True):\n",
        "    pattern=r'[^a-zA-Z0-9\\s]'\n",
        "    text=re.sub(pattern,'',text)\n",
        "    return text\n",
        "\n",
        "def lemmi(text):\n",
        "    lemmatizer = WordNetLemmatizer()\n",
        "    text=' '.join([lemmatizer.lemmatize(word) for word in text.split()])\n",
        "    return text\n",
        "\n",
        "def final_clean(text):\n",
        "    final_text= []\n",
        "    for i in text.split():\n",
        "        if i.strip().lower() not in stopword and i.strip().lower().isalpha():\n",
        "            final_text.append(i.strip().lower())\n",
        "    return \" \".join(final_text)"
      ],
      "metadata": {
        "trusted": true,
        "id": "b2JYmZhhu7zR"
      },
      "execution_count": null,
      "outputs": []
    },
    {
      "cell_type": "code",
      "source": [
        "def clean(text):\n",
        "    text = hapus_url(text)\n",
        "    text = remove_special_characters(text, remove_digits=True)\n",
        "    text = lemmi(text)\n",
        "    text = final_clean(text)\n",
        "    return text"
      ],
      "metadata": {
        "trusted": true,
        "id": "VzhOCIXcu7zR"
      },
      "execution_count": null,
      "outputs": []
    },
    {
      "cell_type": "code",
      "source": [
        "import nltk\n",
        "import subprocess\n",
        "\n",
        "# Download and unzip wordnet\n",
        "try:\n",
        "    nltk.data.find('wordnet.zip')\n",
        "except:\n",
        "    nltk.download('wordnet', download_dir='/kaggle/working/')\n",
        "    command = \"unzip /kaggle/working/corpora/wordnet.zip -d /kaggle/working/corpora\"\n",
        "    subprocess.run(command.split())\n",
        "    nltk.data.path.append('/kaggle/working/')\n",
        "\n",
        "# Now you can import the NLTK resources as usual\n",
        "from nltk.corpus import wordnet"
      ],
      "metadata": {
        "trusted": true,
        "id": "7cIg0wklu7za"
      },
      "execution_count": null,
      "outputs": []
    },
    {
      "cell_type": "code",
      "source": [
        "x[\"clean_reviews\"] = x[\"clean_reviews\"].apply(clean)"
      ],
      "metadata": {
        "trusted": true,
        "id": "Os5BZY1fu7zb"
      },
      "execution_count": null,
      "outputs": []
    },
    {
      "cell_type": "code",
      "source": [
        "from sklearn.model_selection import train_test_split\n",
        "x_train, x_test, y_train, y_test = train_test_split(x, y, test_size=0.25,random_state=0)"
      ],
      "metadata": {
        "trusted": true,
        "id": "eh5gjBqCu7zb"
      },
      "execution_count": null,
      "outputs": []
    },
    {
      "cell_type": "code",
      "source": [
        "x_train"
      ],
      "metadata": {
        "trusted": true,
        "id": "bbjazfXfu7zb"
      },
      "execution_count": null,
      "outputs": []
    },
    {
      "cell_type": "code",
      "source": [
        "from sklearn.feature_extraction.text import TfidfVectorizer"
      ],
      "metadata": {
        "trusted": true,
        "id": "1gHE8lgju7zb"
      },
      "execution_count": null,
      "outputs": []
    },
    {
      "cell_type": "code",
      "source": [
        "tfidf_vectorizer = TfidfVectorizer()  # You can adjust the max_features parameter\n",
        "\n",
        "x_train_tfidf = tfidf_vectorizer.fit_transform(x_train['clean_reviews'])\n",
        "\n",
        "# Transform the 'clean_reviews' column on the testing data\n",
        "x_test_tfidf = tfidf_vectorizer.transform(x_test['clean_reviews'])"
      ],
      "metadata": {
        "trusted": true,
        "id": "YLleq0cRu7zb"
      },
      "execution_count": null,
      "outputs": []
    },
    {
      "cell_type": "code",
      "source": [
        "x_train_tfidf_df = pd.DataFrame(x_train_tfidf.toarray())\n",
        "x_test_tfidf_df =  pd.DataFrame(x_test_tfidf.toarray())"
      ],
      "metadata": {
        "trusted": true,
        "id": "bJCUKX51u7zb"
      },
      "execution_count": null,
      "outputs": []
    },
    {
      "cell_type": "markdown",
      "source": [
        "## Balancing Data"
      ],
      "metadata": {
        "id": "PjtheVy5u7zb"
      }
    },
    {
      "cell_type": "markdown",
      "source": [
        "### Using Smote for Balancing Data"
      ],
      "metadata": {
        "id": "UB4eZd3nu7zb"
      }
    },
    {
      "cell_type": "code",
      "source": [
        "from imblearn.over_sampling import SMOTE\n",
        "oversample = SMOTE()\n",
        "x_train_bal, y_train_bal = oversample.fit_resample(x_train_tfidf, y_train)\n",
        "y_train_bal.value_counts()"
      ],
      "metadata": {
        "trusted": true,
        "id": "6mgu7YxFu7zb"
      },
      "execution_count": null,
      "outputs": []
    },
    {
      "cell_type": "code",
      "source": [
        "x_test_bal, y_test_bal = oversample.fit_resample(x_test_tfidf, y_test)\n",
        "y_test_bal.value_counts()"
      ],
      "metadata": {
        "trusted": true,
        "id": "fIPZESxZu7zb"
      },
      "execution_count": null,
      "outputs": []
    },
    {
      "cell_type": "markdown",
      "source": [
        "## **Model Training**"
      ],
      "metadata": {
        "id": "VyV5UT3qu7zb"
      }
    },
    {
      "cell_type": "markdown",
      "source": [
        "## 1) Logistic Regression"
      ],
      "metadata": {
        "id": "SwWshYYTu7zb"
      }
    },
    {
      "cell_type": "markdown",
      "source": [
        "### Applying Logistic Regression on Imbalanced Data"
      ],
      "metadata": {
        "id": "gH_t7uVYu7zb"
      }
    },
    {
      "cell_type": "code",
      "source": [
        "from sklearn.linear_model import LogisticRegression\n",
        "from sklearn.metrics import classification_report"
      ],
      "metadata": {
        "trusted": true,
        "id": "v_1lFE9Uu7zb"
      },
      "execution_count": null,
      "outputs": []
    },
    {
      "cell_type": "code",
      "source": [
        "log = LogisticRegression()\n",
        "log.fit(x_train_tfidf_df, y_train)"
      ],
      "metadata": {
        "trusted": true,
        "id": "Lwf5Lm9bu7zc"
      },
      "execution_count": null,
      "outputs": []
    },
    {
      "cell_type": "code",
      "source": [
        "perd_log=log.predict(x_test_tfidf_df)"
      ],
      "metadata": {
        "trusted": true,
        "id": "SanC_Cq5u7zc"
      },
      "execution_count": null,
      "outputs": []
    },
    {
      "cell_type": "code",
      "source": [
        "print(classification_report(perd_log, y_test))"
      ],
      "metadata": {
        "trusted": true,
        "id": "9Eyp55iEu7zc"
      },
      "execution_count": null,
      "outputs": []
    },
    {
      "cell_type": "markdown",
      "source": [
        "### Applying Logistic Regression on Balanced Data"
      ],
      "metadata": {
        "id": "4IZ3WIwdu7zc"
      }
    },
    {
      "cell_type": "code",
      "source": [
        "log_bal = LogisticRegression()\n",
        "log_bal.fit(x_train_bal, y_train_bal)"
      ],
      "metadata": {
        "trusted": true,
        "id": "xtyTdmLGu7zc"
      },
      "execution_count": null,
      "outputs": []
    },
    {
      "cell_type": "code",
      "source": [
        "perd_log_bal =log_bal.predict(x_test_bal)"
      ],
      "metadata": {
        "trusted": true,
        "id": "s2Xm4G6uu7zc"
      },
      "execution_count": null,
      "outputs": []
    },
    {
      "cell_type": "code",
      "source": [
        "print(classification_report(perd_log_bal, y_test_bal))"
      ],
      "metadata": {
        "trusted": true,
        "id": "PkZZdsCVu7zc"
      },
      "execution_count": null,
      "outputs": []
    },
    {
      "cell_type": "code",
      "source": [
        "from sklearn.metrics import confusion_matrix"
      ],
      "metadata": {
        "trusted": true,
        "id": "5hzM7c7uu7zc"
      },
      "execution_count": null,
      "outputs": []
    },
    {
      "cell_type": "code",
      "source": [
        "confusion_matrix(y_test_bal,perd_log_bal)"
      ],
      "metadata": {
        "trusted": true,
        "id": "wg3oUM_du7zc"
      },
      "execution_count": null,
      "outputs": []
    },
    {
      "cell_type": "code",
      "source": [
        "from sklearn.metrics import confusion_matrix, ConfusionMatrixDisplay"
      ],
      "metadata": {
        "trusted": true,
        "id": "8suNSFnru7zc"
      },
      "execution_count": null,
      "outputs": []
    },
    {
      "cell_type": "code",
      "source": [
        "cm = confusion_matrix(y_test_bal, perd_log_bal, labels=log.classes_)\n",
        "disp = ConfusionMatrixDisplay(confusion_matrix=cm,display_labels=log.classes_)\n",
        "disp.plot()"
      ],
      "metadata": {
        "trusted": true,
        "id": "30uP8J8Cu7zc"
      },
      "execution_count": null,
      "outputs": []
    },
    {
      "cell_type": "markdown",
      "source": [
        "## 2) Decision Tree"
      ],
      "metadata": {
        "id": "S5zTVnzvu7zc"
      }
    },
    {
      "cell_type": "markdown",
      "source": [
        "### Decision tree on imbalanced Data"
      ],
      "metadata": {
        "id": "ZA_478hju7zc"
      }
    },
    {
      "cell_type": "code",
      "source": [
        "from sklearn.tree import DecisionTreeClassifier"
      ],
      "metadata": {
        "trusted": true,
        "id": "8YuZvbXPu7zc"
      },
      "execution_count": null,
      "outputs": []
    },
    {
      "cell_type": "code",
      "source": [
        "classifier= DecisionTreeClassifier(criterion='entropy', random_state=45)\n",
        "classifier.fit(x_train_tfidf_df, y_train)"
      ],
      "metadata": {
        "trusted": true,
        "id": "JGl8e2SEu7zc"
      },
      "execution_count": null,
      "outputs": []
    },
    {
      "cell_type": "code",
      "source": [
        "pred_tre = classifier.predict(x_test_tfidf_df)"
      ],
      "metadata": {
        "trusted": true,
        "id": "1zYcd5tKu7zc"
      },
      "execution_count": null,
      "outputs": []
    },
    {
      "cell_type": "code",
      "source": [
        "print(classification_report(pred_tre, y_test))"
      ],
      "metadata": {
        "trusted": true,
        "id": "hHZRrFhQu7zc"
      },
      "execution_count": null,
      "outputs": []
    },
    {
      "cell_type": "code",
      "source": [
        "confusion_matrix(y_test,pred_tre)"
      ],
      "metadata": {
        "trusted": true,
        "id": "gRoyI0wlu7zc"
      },
      "execution_count": null,
      "outputs": []
    },
    {
      "cell_type": "code",
      "source": [
        "cm = confusion_matrix(y_test, pred_tre, labels=classifier.classes_)\n",
        "disp = ConfusionMatrixDisplay(confusion_matrix=cm,display_labels=classifier.classes_)\n",
        "disp.plot()"
      ],
      "metadata": {
        "trusted": true,
        "id": "GDFXJ6Lku7zc"
      },
      "execution_count": null,
      "outputs": []
    },
    {
      "cell_type": "markdown",
      "source": [
        "### Decision tree on balanced data"
      ],
      "metadata": {
        "id": "E2QX9-h8u7zc"
      }
    },
    {
      "cell_type": "code",
      "source": [
        "classifier_bal= DecisionTreeClassifier(criterion='entropy', random_state=45)\n",
        "classifier_bal.fit(x_train_bal, y_train_bal)"
      ],
      "metadata": {
        "trusted": true,
        "id": "HCOAHkbou7zc"
      },
      "execution_count": null,
      "outputs": []
    },
    {
      "cell_type": "code",
      "source": [
        "pred_tre_bal = classifier_bal.predict(x_test_bal)"
      ],
      "metadata": {
        "trusted": true,
        "id": "N4lq8MZZu7zc"
      },
      "execution_count": null,
      "outputs": []
    },
    {
      "cell_type": "code",
      "source": [
        "print(classification_report(pred_tre_bal, y_test_bal))"
      ],
      "metadata": {
        "trusted": true,
        "id": "_nw6x3V5u7zd"
      },
      "execution_count": null,
      "outputs": []
    },
    {
      "cell_type": "code",
      "source": [
        "confusion_matrix(y_test_bal,pred_tre_bal)"
      ],
      "metadata": {
        "trusted": true,
        "id": "-kj3Pui5u7zd"
      },
      "execution_count": null,
      "outputs": []
    },
    {
      "cell_type": "code",
      "source": [
        "cm = confusion_matrix(y_test_bal, pred_tre_bal, labels=classifier.classes_)\n",
        "disp = ConfusionMatrixDisplay(confusion_matrix=cm,display_labels=classifier.classes_)\n",
        "disp.plot()"
      ],
      "metadata": {
        "trusted": true,
        "id": "Qf0reEGmu7zd"
      },
      "execution_count": null,
      "outputs": []
    },
    {
      "cell_type": "markdown",
      "source": [
        "## 3) Naive Bayes"
      ],
      "metadata": {
        "id": "-GxT6ZJou7zd"
      }
    },
    {
      "cell_type": "markdown",
      "source": [
        "### Naive bayes on imbalanced Data"
      ],
      "metadata": {
        "id": "Qn242hxcu7zd"
      }
    },
    {
      "cell_type": "code",
      "source": [
        "from sklearn.naive_bayes import GaussianNB\n",
        "nb = GaussianNB()"
      ],
      "metadata": {
        "trusted": true,
        "id": "g8UsuhRcu7zd"
      },
      "execution_count": null,
      "outputs": []
    },
    {
      "cell_type": "code",
      "source": [
        "nb.fit(x_train_tfidf_df, y_train)"
      ],
      "metadata": {
        "trusted": true,
        "id": "00CF8pP7u7zd"
      },
      "execution_count": null,
      "outputs": []
    },
    {
      "cell_type": "code",
      "source": [
        "pred_nb = nb.predict(x_test_tfidf_df)"
      ],
      "metadata": {
        "trusted": true,
        "id": "sWNE3MnUu7zd"
      },
      "execution_count": null,
      "outputs": []
    },
    {
      "cell_type": "code",
      "source": [
        "print(classification_report(pred_nb, y_test))"
      ],
      "metadata": {
        "trusted": true,
        "id": "V-67tZv0u7zd"
      },
      "execution_count": null,
      "outputs": []
    },
    {
      "cell_type": "markdown",
      "source": [
        "### Naive Bayes on Balanced Data"
      ],
      "metadata": {
        "id": "Wp4_eCWlu7zd"
      }
    },
    {
      "cell_type": "code",
      "source": [
        "import numpy as np\n",
        "\n",
        "# Assuming x_train_bal is your sparse matrix\n",
        "x_train_bal_dense = x_train_bal.toarray()\n",
        "\n",
        "# Then proceed with fitting the model using the dense array\n",
        "nb_bal = GaussianNB()\n",
        "nb_bal.fit(x_train_bal_dense, y_train_bal)"
      ],
      "metadata": {
        "trusted": true,
        "id": "NdCzjxiou7zd"
      },
      "execution_count": null,
      "outputs": []
    },
    {
      "cell_type": "code",
      "source": [
        "pred_nb_bal = nb_bal.predict(x_test_bal.toarray())"
      ],
      "metadata": {
        "trusted": true,
        "id": "brFnmwOBu7zd"
      },
      "execution_count": null,
      "outputs": []
    },
    {
      "cell_type": "code",
      "source": [
        "print(classification_report(pred_nb_bal, y_test_bal))"
      ],
      "metadata": {
        "trusted": true,
        "id": "FFgJiVThu7zd"
      },
      "execution_count": null,
      "outputs": []
    },
    {
      "cell_type": "markdown",
      "source": [
        "## 4) RandomForest"
      ],
      "metadata": {
        "id": "3olif0Meu7zd"
      }
    },
    {
      "cell_type": "markdown",
      "source": [
        "### RandomForest on Imbalanced Data"
      ],
      "metadata": {
        "id": "6vMwu18Ku7zd"
      }
    },
    {
      "cell_type": "code",
      "source": [
        "from sklearn.ensemble import RandomForestClassifier"
      ],
      "metadata": {
        "trusted": true,
        "id": "aZ-EkzSbu7zd"
      },
      "execution_count": null,
      "outputs": []
    },
    {
      "cell_type": "code",
      "source": [
        "x_train_tfidf_df.shape"
      ],
      "metadata": {
        "trusted": true,
        "id": "c7-9xyl9u7zd"
      },
      "execution_count": null,
      "outputs": []
    },
    {
      "cell_type": "code",
      "source": [
        "x_test_tfidf_df.shape"
      ],
      "metadata": {
        "trusted": true,
        "id": "dh33zc21u7zd"
      },
      "execution_count": null,
      "outputs": []
    },
    {
      "cell_type": "code",
      "source": [
        "ran=RandomForestClassifier(n_estimators=100)\n",
        "ran.fit(x_train_tfidf_df,y_train)"
      ],
      "metadata": {
        "trusted": true,
        "id": "EmTyEXTBu7zd"
      },
      "execution_count": null,
      "outputs": []
    },
    {
      "cell_type": "code",
      "source": [
        "perd_ran=ran.predict(x_test_tfidf_df)"
      ],
      "metadata": {
        "trusted": true,
        "id": "u-azT7IOu7zd"
      },
      "execution_count": null,
      "outputs": []
    },
    {
      "cell_type": "code",
      "source": [
        "perd_ran.shape"
      ],
      "metadata": {
        "trusted": true,
        "id": "VTaiXKjsu7zd"
      },
      "execution_count": null,
      "outputs": []
    },
    {
      "cell_type": "code",
      "source": [
        "confusion_matrix(y_test,perd_ran)"
      ],
      "metadata": {
        "trusted": true,
        "id": "tw-Q6vnuu7zd"
      },
      "execution_count": null,
      "outputs": []
    },
    {
      "cell_type": "code",
      "source": [
        "cm = confusion_matrix(y_test, perd_ran, labels=ran.classes_)\n",
        "disp = ConfusionMatrixDisplay(confusion_matrix=cm,display_labels=ran.classes_)\n",
        "disp.plot()"
      ],
      "metadata": {
        "trusted": true,
        "id": "1xe4ABTJu7zd"
      },
      "execution_count": null,
      "outputs": []
    },
    {
      "cell_type": "code",
      "source": [
        "y_test.shape , perd_ran.shape"
      ],
      "metadata": {
        "trusted": true,
        "id": "NSahjbVVu7zd"
      },
      "execution_count": null,
      "outputs": []
    },
    {
      "cell_type": "code",
      "source": [
        "print(classification_report(perd_ran, y_test))"
      ],
      "metadata": {
        "scrolled": true,
        "trusted": true,
        "id": "A5wSaZVdu7zd"
      },
      "execution_count": null,
      "outputs": []
    },
    {
      "cell_type": "markdown",
      "source": [
        "### RandomForest on balanced Data"
      ],
      "metadata": {
        "id": "udt0VHK7u7ze"
      }
    },
    {
      "cell_type": "code",
      "source": [
        "ran_bal=RandomForestClassifier(n_estimators=100)\n",
        "ran_bal.fit(x_train_bal,y_train_bal)\n",
        "perd_ran_bal=ran_bal.predict(x_test_bal)"
      ],
      "metadata": {
        "trusted": true,
        "id": "vZq3vJ3Nu7ze"
      },
      "execution_count": null,
      "outputs": []
    },
    {
      "cell_type": "code",
      "source": [
        "confusion_matrix(y_test_bal,perd_ran_bal)"
      ],
      "metadata": {
        "trusted": true,
        "id": "ishSs9Ugu7ze"
      },
      "execution_count": null,
      "outputs": []
    },
    {
      "cell_type": "code",
      "source": [
        "cm = confusion_matrix(y_test_bal, perd_ran_bal, labels=ran.classes_)\n",
        "disp = ConfusionMatrixDisplay(confusion_matrix=cm,display_labels=ran.classes_)\n",
        "disp.plot()"
      ],
      "metadata": {
        "trusted": true,
        "id": "dp1YzKhiu7ze"
      },
      "execution_count": null,
      "outputs": []
    },
    {
      "cell_type": "code",
      "source": [
        "print(classification_report(perd_ran_bal, y_test_bal))"
      ],
      "metadata": {
        "trusted": true,
        "id": "2dWs4uwZu7ze"
      },
      "execution_count": null,
      "outputs": []
    },
    {
      "cell_type": "markdown",
      "source": [
        "### Saving the best model"
      ],
      "metadata": {
        "id": "CUVgv5xlu7ze"
      }
    },
    {
      "cell_type": "code",
      "source": [
        "import pickle"
      ],
      "metadata": {
        "trusted": true,
        "id": "P2WsNLBCu7ze"
      },
      "execution_count": null,
      "outputs": []
    },
    {
      "cell_type": "code",
      "source": [
        "pickle.dump(log_bal, open('log_bal.pkl','wb'))"
      ],
      "metadata": {
        "trusted": true,
        "id": "PgOqwkAWu7ze"
      },
      "execution_count": null,
      "outputs": []
    },
    {
      "cell_type": "code",
      "source": [
        "with open('log_bal','wb') as f:\n",
        "  pickle.dump(log_bal,f)"
      ],
      "metadata": {
        "trusted": true,
        "id": "31ChvKS2u7ze"
      },
      "execution_count": null,
      "outputs": []
    },
    {
      "cell_type": "code",
      "source": [
        "with open('log_bal','rb') as f:\n",
        "  mp=pickle.load(f)"
      ],
      "metadata": {
        "trusted": true,
        "id": "KjXeRMiZu7ze"
      },
      "execution_count": null,
      "outputs": []
    },
    {
      "cell_type": "code",
      "source": [
        "def predict(text):\n",
        "  input_text = [text]\n",
        "  text_to_vec = tfidf_vectorizer.transform(input_text).toarray()\n",
        "  prediction = mp.predict(text_to_vec)\n",
        "  return prediction"
      ],
      "metadata": {
        "trusted": true,
        "id": "O_leumJ4u7ze"
      },
      "execution_count": null,
      "outputs": []
    },
    {
      "cell_type": "code",
      "source": [
        "User_input = input(\"Enter your text:\")\n",
        "output = predict(User_input)\n",
        "print(output)"
      ],
      "metadata": {
        "trusted": true,
        "id": "zUr4ZbDou7zf"
      },
      "execution_count": null,
      "outputs": []
    }
  ]
}